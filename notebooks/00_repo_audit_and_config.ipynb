# 00 — Repo audit & config (2024 only)
import os, sys, yaml, numpy as np, pandas as pd
from policyengine_us import Microsimulation

print("Step 00 start.")

sim = Microsimulation()
YEAR = 2024

def try_household(var, decode=True):
    """Try household-mapped; return (ok, series_or_error_str)."""
    try:
        s = sim.calculate(var, map_to="household", period=YEAR, decode_enums=decode)
        return True, pd.Series(s)
    except Exception as e:
        return False, str(e)

def pick_first(candidates, *, decode=True, required=True):
    for v in candidates:
        ok, s = try_household(v, decode=decode)
        if ok:
            print(f"  ✓ {v} (household) len={len(s)}")
            return v, s
        else:
            print(f"  · {v} unavailable ({s})")
    if required:
        raise KeyError(f"None available: {candidates}")
    return None, None

print("\nDetecting columns for household entity…")
agi_var,  agi_s   = pick_first(["adjusted_gross_income","household_agi","agi_household","agi_hh","agi"], decode=False)
wage_var, wage_s  = pick_first(["employment_income","wages","wage_income","labor_income"], decode=False)
size_var, size_s  = pick_first(["household_size","hh_size","household_members","family_size"], decode=False)
wt_var,   wt_s    = pick_first(["household_weight","hh_weight","weight","marsupwt","asec_weight"], decode=False)
fed_var,  fed_s   = pick_first(["income_tax"], decode=False)
st_var,   st_s    = pick_first(["ca_income_tax"], decode=False)

# Filing status is often not household-mapped. We'll still record the name if it exists anywhere,
# but we WON'T depend on it later.
fs_candidates = ["filing_status","tax_unit_filing_status","filingstatus"]
fs_avail = []
for v in fs_candidates:
    ok, s = try_household(v, decode=True)
    if ok:
        fs_avail.append(v)
if not fs_avail:
    # Just store the canonical key so downstream code has a column name to write to.
    fs_avail = ["filing_status"]
print("\nFiling status candidates (record only):", fs_avail)

# Basic CA sample check
ok_state, state_s = try_household("state_code", decode=True)
if not ok_state:
    raise RuntimeError(f"state_code not available at household level: {state_s}")
mask_ca = state_s.astype(str).str.upper().eq("CA")
print("CA households (raw, 2024):", int(mask_ca.sum()))

# Build lightweight frame to sanity check
df0 = pd.DataFrame({
    agi_var:  agi_s,
    wage_var: wage_s,
    size_var: size_s,
    wt_var:   wt_s,
    fed_var:  fed_s,
    st_var:   st_s
})
print("\nSample rows (any state):")
print(df0.head(3))

# Write config/columns.yaml
os.makedirs("../config", exist_ok=True)
col_map = {
    "agi": agi_var,
    "wages": wage_var,
    "hh_size": size_var,
    "weight": wt_var,
    "fed_tax": fed_var,
    "state_tax": st_var,
    "filing_status": fs_avail[0],  # will be overwritten in Step 01 with derived statuses
}
with open("../config/columns.yaml", "w") as f:
    yaml.safe_dump(col_map, f, sort_keys=False)

print("\nWrote ../config/columns.yaml:")
print(col_map)

# Quick checks
assert mask_ca.any(), "No CA households found with state_code=='CA'."
assert df0[agi_var].notna().any(), "AGI appears all missing."
assert df0[wage_var].notna().any(), "Wages appear all missing."
print("\n✅ Step 00 complete.")
