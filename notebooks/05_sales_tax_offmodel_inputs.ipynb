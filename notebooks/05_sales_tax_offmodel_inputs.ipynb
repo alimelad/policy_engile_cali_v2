{
 "cells": [
  {
   "cell_type": "markdown",
   "id": "e1340071",
   "metadata": {},
   "source": [
    "# 05 — Off-model sales tax inputs\n",
    "Produces decile totals of AGI, wages, disposable-income proxy, and weights for 2024 & 2025.\n"
   ]
  },
  {
   "cell_type": "code",
   "execution_count": 1,
   "id": "12d0b703",
   "metadata": {},
   "outputs": [
    {
     "name": "stdout",
     "output_type": "stream",
     "text": [
      "✅ wrote ../outputs/vat/sales_tax_inputs_2024.csv\n",
      "decile  households_weighted      agi_sum    wages_sum  consumption_allowance_sum  rebate_after_phaseout_sum\n",
      "     1         1.890135e+06 6.264963e+05 5.208819e+05                  4640780.0               4.640780e+06\n",
      "     2         1.568790e+06 1.659327e+06 1.706502e+06                  2192280.0               2.192280e+06\n",
      "     3         1.489727e+06 7.642576e+06 7.431737e+06                  6429660.0               6.390954e+06\n",
      "     4         1.611124e+06 7.349458e+06 6.539761e+06                  4059700.0               3.792341e+06\n",
      "     5         1.551894e+06 2.177773e+07 1.853373e+07                  8678680.0               7.381687e+06\n"
     ]
    },
    {
     "name": "stderr",
     "output_type": "stream",
     "text": [
      "C:\\Users\\Ali.Melad\\AppData\\Local\\Temp\\ipykernel_19712\\2864951946.py:45: FutureWarning: The default of observed=False is deprecated and will be changed to True in a future version of pandas. Pass observed=False to retain current behavior or observed=True to adopt the future default and silence this warning.\n",
      "  by_dec = df.groupby(\"decile\").apply(\n",
      "C:\\Users\\Ali.Melad\\AppData\\Local\\Temp\\ipykernel_19712\\2864951946.py:45: FutureWarning: DataFrameGroupBy.apply operated on the grouping columns. This behavior is deprecated, and in a future version of pandas the grouping columns will be excluded from the operation. Either pass `include_groups=False` to exclude the groupings or explicitly select the grouping columns after groupby to silence this warning.\n",
      "  by_dec = df.groupby(\"decile\").apply(\n"
     ]
    }
   ],
   "source": [
    "# 05 — Sales-tax off-model inputs (2024)\n",
    "import os, numpy as np, pandas as pd\n",
    "\n",
    "os.makedirs(\"../outputs/vat\", exist_ok=True)\n",
    "\n",
    "parq = \"../intermediate/ca_panel_2024.parquet\"\n",
    "csv  = \"../intermediate/ca_panel_2024.csv\"\n",
    "panel_path = parq if os.path.exists(parq) else (csv if os.path.exists(csv) else None)\n",
    "if panel_path is None:\n",
    "    raise FileNotFoundError(\"Missing panel; run Step 01.\")\n",
    "df = pd.read_parquet(panel_path) if panel_path.endswith(\".parquet\") else pd.read_csv(panel_path)\n",
    "\n",
    "# Normalize weight\n",
    "if \"weight\" not in df.columns:\n",
    "    wcol = [c for c in df.columns if c.lower() in (\"household_weight\",\"weight\",\"hh_weight\")]\n",
    "    if not wcol:\n",
    "        raise KeyError(\"No weight column found.\")\n",
    "    df[\"weight\"] = pd.to_numeric(df[wcol[0]], errors=\"coerce\").fillna(0.0)\n",
    "else:\n",
    "    df[\"weight\"] = pd.to_numeric(df[\"weight\"], errors=\"coerce\").fillna(0.0)\n",
    "\n",
    "# Equivalized income deciles (AGI / household_size)\n",
    "df[\"equiv_income\"] = df[\"household_agi\"].astype(float) / np.maximum(df[\"household_size\"].astype(float), 1.0)\n",
    "\n",
    "# Minimal weighted decile helper (no dependency on module)\n",
    "def add_weighted_deciles_local(df, income_col, weight_col, label=\"decile\"):\n",
    "    x = df[income_col].astype(float)\n",
    "    w = df[weight_col].astype(float)\n",
    "    s = pd.DataFrame({income_col: x, weight_col: w}).sort_values(income_col).reset_index(drop=True)\n",
    "    v = s[income_col].to_numpy(float)\n",
    "    ww = s[weight_col].to_numpy(float)\n",
    "    if len(ww) == 0 or ww.sum() <= 0:\n",
    "        df[label] = 1\n",
    "        return df\n",
    "    cw = np.cumsum(ww); total = cw[-1]\n",
    "    cuts = [total*k/10 for k in range(1,10)]\n",
    "    idxs = np.searchsorted(cw, cuts, side=\"left\")\n",
    "    edges = [-np.inf] + [v[min(i, len(v)-1)] for i in idxs] + [np.inf]\n",
    "    df[label] = pd.cut(x, bins=edges, labels=range(1,11), include_lowest=True)\n",
    "    return df\n",
    "\n",
    "df = add_weighted_deciles_local(df, \"equiv_income\", \"weight\", \"decile\")\n",
    "\n",
    "# Build the table\n",
    "by_dec = df.groupby(\"decile\").apply(\n",
    "    lambda g: pd.Series({\n",
    "        \"households_weighted\": g[\"weight\"].sum(),\n",
    "        \"agi_sum\": g[\"household_agi\"].sum(),\n",
    "        \"wages_sum\": g[\"employment_income\"].clip(lower=0).sum(),\n",
    "        # handy proxies:\n",
    "        \"consumption_allowance_sum\": g.get(\"consumption_allowance\", pd.Series(0.0, index=g.index)).sum(),\n",
    "        \"rebate_after_phaseout_sum\": g.get(\"rebate_after_phaseout\", pd.Series(0.0, index=g.index)).sum(),\n",
    "    })\n",
    ").reset_index()\n",
    "\n",
    "out = \"../outputs/vat/sales_tax_inputs_2024.csv\"\n",
    "by_dec.to_csv(out, index=False)\n",
    "\n",
    "# ✅ checks\n",
    "assert by_dec[\"households_weighted\"].sum() > 0\n",
    "print(\"✅ wrote\", out)\n",
    "print(by_dec.head().to_string(index=False))\n"
   ]
  }
 ],
 "metadata": {
  "kernelspec": {
   "display_name": "policyengine_env",
   "language": "python",
   "name": "python3"
  },
  "language_info": {
   "codemirror_mode": {
    "name": "ipython",
    "version": 3
   },
   "file_extension": ".py",
   "mimetype": "text/x-python",
   "name": "python",
   "nbconvert_exporter": "python",
   "pygments_lexer": "ipython3",
   "version": "3.11.13"
  }
 },
 "nbformat": 4,
 "nbformat_minor": 5
}
